{
    "cells": [
        {
            "metadata": {},
            "cell_type": "markdown",
            "source": "# Just an exercise \n\nlet's see what I CAN LEARN HERE"
        },
        {
            "metadata": {},
            "cell_type": "code",
            "source": "\nimport types\nimport pandas as pd\nfrom botocore.client import Config\nimport ibm_boto3\n\ndef __iter__(self): return 0\n\n# @hidden_cell\n# The following code accesses a file in your IBM Cloud Object Storage. It includes your credentials.\n# You might want to remove those credentials before you share the notebook.\nclient_96d8fa709f46480a8dfcc1c213f3a204 = ibm_boto3.client(service_name='s3',\n    ibm_api_key_id='rpJuJqYrGJx4OuV3VL8mO6nYVY6gLX_gGxWy1N2Yiy5_',\n    ibm_auth_endpoint=\"https://iam.cloud.ibm.com/oidc/token\",\n    config=Config(signature_version='oauth'),\n    endpoint_url='https://s3-api.us-geo.objectstorage.service.networklayer.com')\n\nbody = client_96d8fa709f46480a8dfcc1c213f3a204.get_object(Bucket='datascienceexercisejupyternoteboo-donotdelete-pr-3c9bqy7kjhlc20',Key='ITINERARY THAILAND-MALYSIA-BALI (1) (1).xlsx')['Body']\n# add missing __iter__ method, so pandas accepts body as file-like object\nif not hasattr(body, \"__iter__\"): body.__iter__ = types.MethodType( __iter__, body )\n\ndf_data_0 = pd.read_excel(body)\ndf_data_0.head()\n",
            "execution_count": 1,
            "outputs": [
                {
                    "output_type": "execute_result",
                    "execution_count": 1,
                    "data": {
                        "text/plain": "  Itinerary Thailand an Indonesya Unnamed: 1  \\\n0                      27/12/2019     Phuket   \n1                      28/12/2019    Phi Phi   \n2                      29/12/2019    Phi Phi   \n3                      30/12/2019    Phi Phi   \n4                      31/12/2019    Phi Phi   \n\n                                          Unnamed: 2                Hotel  \n0  Arrival at 7.10am Karon Beach, Sirinat Nationa...       Hugger Hostel   \n1  Big Buddha and Wat chalong temple in chalong. ...  Ibiza House Phi Phi  \n2                                                NaN                  NaN  \n3  Arrival in the morning. Relax in Long Beach an...                  NaN  \n4  Phi Phi boat tour (Monkey Beach, Viking cave, ...                  NaN  ",
                        "text/html": "<div>\n<style scoped>\n    .dataframe tbody tr th:only-of-type {\n        vertical-align: middle;\n    }\n\n    .dataframe tbody tr th {\n        vertical-align: top;\n    }\n\n    .dataframe thead th {\n        text-align: right;\n    }\n</style>\n<table border=\"1\" class=\"dataframe\">\n  <thead>\n    <tr style=\"text-align: right;\">\n      <th></th>\n      <th>Itinerary Thailand an Indonesya</th>\n      <th>Unnamed: 1</th>\n      <th>Unnamed: 2</th>\n      <th>Hotel</th>\n    </tr>\n  </thead>\n  <tbody>\n    <tr>\n      <th>0</th>\n      <td>27/12/2019</td>\n      <td>Phuket</td>\n      <td>Arrival at 7.10am Karon Beach, Sirinat Nationa...</td>\n      <td>Hugger Hostel</td>\n    </tr>\n    <tr>\n      <th>1</th>\n      <td>28/12/2019</td>\n      <td>Phi Phi</td>\n      <td>Big Buddha and Wat chalong temple in chalong. ...</td>\n      <td>Ibiza House Phi Phi</td>\n    </tr>\n    <tr>\n      <th>2</th>\n      <td>29/12/2019</td>\n      <td>Phi Phi</td>\n      <td>NaN</td>\n      <td>NaN</td>\n    </tr>\n    <tr>\n      <th>3</th>\n      <td>30/12/2019</td>\n      <td>Phi Phi</td>\n      <td>Arrival in the morning. Relax in Long Beach an...</td>\n      <td>NaN</td>\n    </tr>\n    <tr>\n      <th>4</th>\n      <td>31/12/2019</td>\n      <td>Phi Phi</td>\n      <td>Phi Phi boat tour (Monkey Beach, Viking cave, ...</td>\n      <td>NaN</td>\n    </tr>\n  </tbody>\n</table>\n</div>"
                    },
                    "metadata": {}
                }
            ]
        },
        {
            "metadata": {},
            "cell_type": "code",
            "source": "",
            "execution_count": null,
            "outputs": []
        }
    ],
    "metadata": {
        "kernelspec": {
            "name": "python3",
            "display_name": "Python 3.6",
            "language": "python"
        },
        "language_info": {
            "name": "python",
            "version": "3.6.9",
            "mimetype": "text/x-python",
            "codemirror_mode": {
                "name": "ipython",
                "version": 3
            },
            "pygments_lexer": "ipython3",
            "nbconvert_exporter": "python",
            "file_extension": ".py"
        }
    },
    "nbformat": 4,
    "nbformat_minor": 1
}